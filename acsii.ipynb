{
  "nbformat": 4,
  "nbformat_minor": 0,
  "metadata": {
    "colab": {
      "provenance": [],
      "authorship_tag": "ABX9TyN6PQmTtKMF2xbUeN3a/l7k",
      "include_colab_link": true
    },
    "kernelspec": {
      "name": "python3",
      "display_name": "Python 3"
    },
    "language_info": {
      "name": "python"
    }
  },
  "cells": [
    {
      "cell_type": "markdown",
      "metadata": {
        "id": "view-in-github",
        "colab_type": "text"
      },
      "source": [
        "<a href=\"https://colab.research.google.com/github/adrianyang2012/ASCII_art/blob/main/acsii.ipynb\" target=\"_parent\"><img src=\"https://colab.research.google.com/assets/colab-badge.svg\" alt=\"Open In Colab\"/></a>"
      ]
    },
    {
      "cell_type": "code",
      "execution_count": 47,
      "metadata": {
        "id": "jnGIprJWmPGh",
        "outputId": "95913eb7-72b7-46dc-d756-16bf383ba6cb",
        "colab": {
          "base_uri": "https://localhost:8080/"
        }
      },
      "outputs": [
        {
          "output_type": "stream",
          "name": "stdout",
          "text": [
            "@@@@@@@@@@@@@@@@@@@@@@@@@@@@@@@@@@@@@@@@@@@@@@@@@@@@@@@@@@@@@@@@@@@@@@@@@@@@@@@@@@@@@@@@@@@@@@@@@@@@\n",
            "@@@@@@@@@@@@@@@@@@@@@@@@@@@@@@@@@@@@@@@@@@@@@@@@@@@@@@@@@@@@@@@@@@@@@@@@@@@@@@@@@@@@@@@@@@@@@@@@@@@@\n",
            "@@@@@@@@@@@<oooooooooooooooooooooooooooooooooooooooooooooooooooooooooooooooooooooooooooo<@@@@@@@@@@@\n",
            "@@@@@@@@@o00000000000000000000000000000000000000000000000000000000000000000000000000000000o@@@@@@@@@\n",
            "@@@@@@@ 000000000000000000000000000000000000000000000000000000000000000000000000000000000000 @@@@@@@\n",
            "@@@@@@ 00000000000000000000000000000000000000000000000000000000000000000000000000000000000000 @@@@@@\n",
            "@@@@@@00000oooooooooooooooooooooooooooooooooooooooooooooooooooooooooooooooooooooooooooooo00000@@@@@@\n",
            "@@@@@@0000oooooooooooooooooooooooooooooooooooooooooooooooooooooooooooooooooooooooooooooooo0000@@@@@@\n",
            "@@@@@@000oooooooooooooooooooooooooooooooooooooooooooooooooooooooooooooooooooooooooooooooooo000@@@@@@\n",
            "@@@@@@000oooooooooooooooooooooooooooooooooooooooooooooooooooooooooooooooooooooooooooooooooo000@@@@@@\n",
            "@@@@@@000oooooooooooooooooooooooooooooooooooooooooooooooooooooooooooooooooooooooooooooooooo000@@@@@@\n",
            "@@@@@@000oooooooooooooooooooooooooooooooooooooooooooooooooooooooooooooooooooooooooooooooooo000@@@@@@\n",
            "@@@@@@000oooooooooooooooooooooooooooooooooooooooooooooooooooooooooooooooooooooooooooooooooo000@@@@@@\n",
            "@@@@@@000oooooooooooooooooooooooooooooooooooooooooooooooooooooooooooooooooooooooooooooooooo000@@@@@@\n",
            "@@@@@@000ooooooooooooooooooooooooooooooooooooooooooo0aa@@@aa0oooooooooooooooooooooooooooooo000@@@@@@\n",
            "@@@@@@000oooooooooooooooooooooooooooooooooooooooo0a@@@@@@@@@@@aoooooooooooooooooooooooooooo000@@@@@@\n",
            "@@@@@@000oooooooooooooooooooooooooooooooooo00a@@@@@@@@@@@@@@@@@@0oooooooooooooooooooooooooo000@@@@@@\n",
            "@@@@@@000oooooooooooooooooooooooooooooooo0a@@@@@@@@@@@@@@@@@@@@@@aooooooooooooooooooooooooo000@@@@@@\n",
            "@@@@@@000oooooooooooooooooooooooooooooo0a@@@@@@@@@@@@@@@@@@@@@@@@@aoooooooooooooooooooooooo000@@@@@@\n",
            "@@@@@@000oooooooooooooooooooooooooooooa@@@@@@@@@@@@@@@@@@@@@@@@@@@@0ooooooooooooooooooooooo000@@@@@@\n",
            "@@@@@@000ooooooooooooooooooooooooooooa@@@@@@@@@@@@@@@@@@@@@@@@@@@@@@0oooooooooooooooooooooo000@@@@@@\n",
            "@@@@@@000oooooooooooooooooooooooooooa@@@@@@@@@@@@@@@@a00000a@@@@@@@@aoooooooooooooooooooooo000@@@@@@\n",
            "@@@@@@000ooooooooooooooooooooooooooa@@@@@@@@@@@@aaaa0ooooooo0a@@@@@@@0ooooooooooooooooooooo000@@@@@@\n",
            "@@@@@@000ooooooooooooooooooooooooo0@@@@@@@@@a000ooooooooooooo0@@@@@@@aooooooooooooooooooooo000@@@@@@\n",
            "@@@@@@000ooooooooooooooooooooooooo@@@@@@@@@0oooooooooooooooooo0@@@@@@@0oooooooooooooooooooo000@@@@@@\n",
            "@@@@@@000oooooooooooooooooooooooo0@@@@@@@a0ooooooooooooooooooooa@@@@@@0oooooooooooooooooooo000@@@@@@\n",
            "@@@@@@000oooooooooooooooooooooooo@@@@@@@a0ooooooooooooooooooooo0@@@@@@aoooooooooooooooooooo000@@@@@@\n",
            "@@@@@@000ooooooooooooooooooooooo0@@@@@@@0ooooooooooooooaa0ooooo0@@@@@@aoooooooooooooooooooo000@@@@@@\n",
            "@@@@@@000oooooooooooooooooooooooa@@@@@@aoooooooo00oooo0@@@0ooooo@@@@@@aoooooooooooooooooooo000@@@@@@\n",
            "@@@@@@000ooooooooooooooooooooooo@@@@@@@0oooooo0a@@aa0o0@@@0ooooo@@@@@@aoooooooooooooooooooo000@@@@@@\n",
            "@@@@@@000oooooooooooooooooooooo0@@@@@@aooooooa@@@@@@a00@@@0ooooo@@@@@@aoooooooooooooooooooo000@@@@@@\n",
            "@@@@@@000ooooooooooooooooooooooa@@@@@@0ooooo0@@@@@@@@@a@@@0oooo0@@@@@@aoooooooooooooooooooo000@@@@@@\n",
            "@@@@@@000ooooooooooooooooooooooa@@@@@@0oooooa@@@aa@@@@@@@@0oooo0@@@@@@aoooooooooooooooooooo000@@@@@@\n",
            "@@@@@@000ooooooooooooooooooooooa@@@@@aooooo0@@@aoo0a@@@@@@0oooo0@@@@@@aoooooooooooooooooooo000@@@@@@\n",
            "@@@@@@000ooooooooooooooooooooo0@@@@@@aooooo0@@@0ooo0@@@@@@0oooo0@@@@@@aoooooooooooooooooooo000@@@@@@\n",
            "@@@@@@000ooooooooooooooooooooo0@@@@@@aoooooa@@@0oooo0@@@@@ooooo0@@@@@@aoooooooooooooooooooo000@@@@@@\n",
            "@@@@@@000ooooooooooooooooooooo0@@@@@@aoooooa@@@0oooooa@@@@ooooo0@@@@@@aoooooooooooooooooooo000@@@@@@\n",
            "@@@@@@000ooooooooooooooooooooo0@@@@@@0oooooa@@aoooooo0@@@aooooo0@@@@@@0oooooooooooooooooooo000@@@@@@\n",
            "@@@@@@000ooooooooooooooooooooo0@@@@@@0oooooa@@aooooooo@@@aooooo0@@@@@@0oooooooooooooooooooo000@@@@@@\n",
            "@@@@@@000ooooooooooooooooooooo0@@@@@@0oooooa@@aoooooooa@@aooooo0@@@@@@0oooooooooooooooooooo000@@@@@@\n",
            "@@@@@@000ooooooooooooooooooooo0@@@@@@0oooooa@@aoooooooa@@aooooo0@@@@@@0oooooooooooooooooooo000@@@@@@\n",
            "@@@@@@000ooooooooooooooooooooo0@@@@@@0oooooa@@@0oooooo0aa0oooooa@@@@@@0oooooooooooooooooooo000@@@@@@\n",
            "@@@@@@000ooooooooooooooooooooo0@@@@@@aooooo0@@@aoooooooooooooooa@@@@@@0oooooooooooooooooooo000@@@@@@\n",
            "@@@@@@000ooooooooooooooooooooo0@@@@@@aooooo0@@@@aa00oooooooooooa@@@@@@aoooooooooooooooooooo000@@@@@@\n",
            "@@@@@@000oooooooooooooooooooooa@@@@@@aooooooa@@@@@@@aa0oooooooo0@@@@@@@0ooooooooooooooooooo000@@@@@@\n",
            "@@@@@@000oooooooooooooooooooo0@@@@@@@0oooooooa@@@@@@@@@a0oooooooa@@@@@@aooooooooooooooooooo000@@@@@@\n",
            "@@@@@@000oooooooooooooooooooo0@@@@@@aooooooooo0a@@@@@@@@@aoooooo0@@@@@@@ooooooooooooooooooo000@@@@@@\n",
            "@@@@@@000ooooooooooooooooooooa@@@@@@0oooooo00ooo000a@@@@@@aooooooa@@@@@@0oooooooooooooooooo000@@@@@@\n",
            "@@@@@@000ooooooooooooooooooooa@@@@@@0oooooa@a0oooooo00a@@@@0ooooo0@@@@@@0oooooooooooooooooo000@@@@@@\n",
            "@@@@@@000ooooooooooooooooooooa@@@@@@ooooo0@@@0oooooooooa@@@aooooo0@@@@@@aoooooooooooooooooo000@@@@@@\n",
            "@@@@@@000ooooooooooooooooooooa@@@@@@ooooo0@@@0ooooooooooa@@@0oooo0@@@@@@aoooooooooooooooooo000@@@@@@\n",
            "@@@@@@000ooooooooooooooooooooa@@@@@@ooooo0@@@aoooooooooo0@@@0ooooo@@@@@@aoooooooooooooooooo000@@@@@@\n",
            "@@@@@@000ooooooooooooooooooooa@@@@@aooooo0@@@aoooooooooo0@@@0ooooo@@@@@@aoooooooooooooooooo000@@@@@@\n",
            "@@@@@@000ooooooooooooooooooooa@@@@@aooooo0@@@@0oooooooooa@@@0oooo0@@@@@@aoooooooooooooooooo000@@@@@@\n",
            "@@@@@@000ooooooooooooooooooooa@@@@@aooooo0@@@@@0ooooooo0@@@aooooo0@@@@@@aoooooooooooooooooo000@@@@@@\n",
            "@@@@@@000oooooooooooooooooooo@@@@@@aooooo0@@@@@@0ooooo0@@@@0oooooa@@@@@@0oooooooooooooooooo000@@@@@@\n",
            "@@@@@@000oooooooooooooooooooo@@@@@@aooooo0@@@@@@@aa0aa@@@@aooooooa@@@@@@0oooooooooooooooooo000@@@@@@\n",
            "@@@@@@000oooooooooooooooooooo@@@@@@aooooo0@@@@@@@@@@@@@@@aoooooo0@@@@@@@ooooooooooooooooooo000@@@@@@\n",
            "@@@@@@000oooooooooooooooooooo@@@@@@aooooo0@@@a@@@@@@@@@@aoooooooa@@@@@@aooooooooooooooooooo000@@@@@@\n",
            "@@@@@@000oooooooooooooooooooo@@@@@@aooooo0@@@000a@@@@@a0ooooooo0@@@@@@@0ooooooooooooooooooo000@@@@@@\n",
            "@@@@@@000oooooooooooooooooooo@@@@@@aooooo0@@@0ooo00000oooooooo0@@@@@@@aoooooooooooooooooooo000@@@@@@\n",
            "@@@@@@000oooooooooooooooooooo@@@@@@aooooo0@@@0ooooooooooooooo0a@@@@@@@0oooooooooooooooooooo000@@@@@@\n",
            "@@@@@@000ooooooooooooooooooooa@@@@@aooooo0@@aooooooooooooooo0a@@@@@@@aooooooooooooooooooooo000@@@@@@\n",
            "@@@@@@000ooooooooooooooooooooa@@@@@@0ooooo000oooooooooooooo0a@@@@@@@@0ooooooooooooooooooooo000@@@@@@\n",
            "@@@@@@000ooooooooooooooooooooa@@@@@@0oooooooooooooooooooo0a@@@@@@@@@aoooooooooooooooooooooo000@@@@@@\n",
            "@@@@@@000oooooooooooooooooooo0@@@@@@aoooooooooooooooooo0a@@@@@@@@@@aooooooooooooooooooooooo000@@@@@@\n",
            "@@@@@@000oooooooooooooooooooo0@@@@@@@aoooooooooooaaaaa@@@@@@@@@@@@aoooooooooooooooooooooooo000@@@@@@\n",
            "@@@@@@000oooooooooooooooooooooa@@@@@@@0oooooooooa@@@@@@@@@@@@@@@@aooooooooooooooooooooooooo000@@@@@@\n",
            "@@@@@@000ooooooooooooooooooooo0@@@@@@@@a0ooooo0a@@@@@@@@@@@@@@@@aoooooooooooooooooooooooooo000@@@@@@\n",
            "@@@@@@000ooooooooooooooooooooooa@@@@@@@@@aaaaa@@@@@@@@@@@@@@@@@0ooooooooooooooooooooooooooo000@@@@@@\n",
            "@@@@@@000oooooooooooooooooooooo0@@@@@@@@@@@@@@@@@@@@@@@@@@@@@a0oooooooooooooooooooooooooooo000@@@@@@\n",
            "@@@@@@000ooooooooooooooooooooooo0@@@@@@@@@@@@@@@@@@@@@@@@@@a0oooooooooooooooooooooooooooooo000@@@@@@\n",
            "@@@@@@000oooooooooooooooooooooooo0@@@@@@@@@@@@@@@@@@@@@aa0ooooooooooooooooooooooooooooooooo000@@@@@@\n",
            "@@@@@@000ooooooooooooooooooooooooo0a@@@@@@@@@@@@@@@a00ooooooooooooooooooooooooooooooooooooo000@@@@@@\n",
            "@@@@@@000oooooooooooooooooooooooooooa@@@@@@@@@@@@@0oooooooooooooooooooooooooooooooooooooooo000@@@@@@\n",
            "@@@@@@000ooooooooooooooooooooooooooooo0a@@@@@@@a0oooooooooooooooooooooooooooooooooooooooooo000@@@@@@\n",
            "@@@@@@o000ooooooooooooooooooooooooooooooo00000oooooooooooooooooooooooooooooooooooooooooooo000o@@@@@@\n",
            "@@@@@@o000oooooooooooooooooooooooooooooooooooooooooooooooooooooooooooooooooooooooooooooooo000o@@@@@@\n",
            "@@@@@@<o0000000000000000000oooooooooooooooooooooooooooooooooooooooooooooo0000000000000000000o<@@@@@@\n",
            "@@@@@@<oo00000000000000000000oooooooooooooooooooooooooooooooooooooooooo00000000000000000000oo<@@@@@@\n",
            "@@@@@@<<<oo0000000000000000000oooooooooooooooooooooooooooooooooooooooo0000000000000000000oo<<<@@@@@@\n",
            "@@@@@@<<<<<oooooooooooooooo0000oooooooooooooooooooooooooooooooooooooo0000oooooooooooooooo<<<<<@@@@@@\n",
            "@@@@@@<<<<<<<<<<<<<<<<<<<<<o000oooooooooooooooooooooooooooooooooooooo000o<<<<<<<<<<<<<<<<<<<<<@@@@@@\n",
            "@@@@@@ <<<<<<<<<<<<<<<<<<<<<o000oooooooooooooooooooooooooooooooooooo000o<<<<<<<<<<<<<<<<<<<<< @@@@@@\n",
            "@@@@@@@ <<o<<<<<<<<<<<<<<<<<oo000oooooooooooooooooooooooooooooooooo000oo<<<<<<<<<<<<<<<<<o<< @@@@@@@\n",
            "@@@@@@@@ <<<<<<<<<<<<<<<<<<<<o0000oooooooooooooooooooooooooooooooo0000o<<<<<<<<<<<<<<<<<<<< @@@@@@@@\n",
            "@@@@@@@@@@@.<<<<<<<<<<<<o<<<<<o000oooooooooooooooooooooooooooooooo000o<<<<<o<<<<<<<<<<<<.@@@@@@@@@@@\n",
            "@@@@@@@@@@@@@@@@@@@@@@@@@.<<<<<o000oooooooooooooooooooooooooooooo000o<<<<<.@@@@@@@@@@@@@@@@@@@@@@@@@\n",
            "@@@@@@@@@@@@@@@@@@@@@@@@@@.<<<<oo0000oooooooooooooooooooooooooo0000oo<<<<.@@@@@@@@@@@@@@@@@@@@@@@@@@\n",
            "@@@@@@@@@@@@@@@@@@@@@@@@@@@.<<<<o0000000000000000000000000000000000o<<<<.@@@@@@@@@@@@@@@@@@@@@@@@@@@\n",
            "@@@@@@@@@@@@@@@@@@@@@@@@@@@@<<<<<oo000000000000000000000000000000oo<<<<<@@@@@@@@@@@@@@@@@@@@@@@@@@@@\n",
            "@@@@@@@@@@@@@@@@@@@@@@@@@@@@@<<<<<<oooooooooooooooooooooooooooooo<<<<<<@@@@@@@@@@@@@@@@@@@@@@@@@@@@@\n",
            "@@@@@@@@@@@@@@@@@@@@@@@@@@@@@@<<<<<<<<<<<<<<<<<<<<<<<<<<<<<<<<<<<<<<<<@@@@@@@@@@@@@@@@@@@@@@@@@@@@@@\n",
            "@@@@@@@@@@@@@@@@@@@@@@@@@@@@@@.<<<<<<<<<<<<<<<<<<<<<<<<<<<<<<<<<<<<<<.@@@@@@@@@@@@@@@@@@@@@@@@@@@@@@\n",
            "@@@@@@@@@@@@@@@@@@@@@@@@@@@@@@@.<<<<<<<<<<<<<<<<<<<<<<<<<<<<<<<<<<<<.@@@@@@@@@@@@@@@@@@@@@@@@@@@@@@@\n",
            "@@@@@@@@@@@@@@@@@@@@@@@@@@@@@@@@<<<<<<<<<<<<<<<<<<<<<<<<<<<<<<<<<<<.@@@@@@@@@@@@@@@@@@@@@@@@@@@@@@@@\n",
            "@@@@@@@@@@@@@@@@@@@@@@@@@@@@@@@@@@<<<<<<<<<<<<<<<<<<<<<<<<<<<<<<<<@@@@@@@@@@@@@@@@@@@@@@@@@@@@@@@@@@\n",
            "@@@@@@@@@@@@@@@@@@@@@@@@@@@@@@@@@@@@<<<<<<<<<<<<<<<<<<<<<<<<<<<<@@@@@@@@@@@@@@@@@@@@@@@@@@@@@@@@@@@@\n",
            "@@@@@@@@@@@@@@@@@@@@@@@@@@@@@@@@@@@@@@@@@@@@@@@@@@@@@@@@@@@@@@@@@@@@@@@@@@@@@@@@@@@@@@@@@@@@@@@@@@@@\n",
            "@@@@@@@@@@@@@@@@@@@@@@@@@@@@@@@@@@@@@@@@@@@@@@@@@@@@@@@@@@@@@@@@@@@@@@@@@@@@@@@@@@@@@@@@@@@@@@@@@@@@\n"
          ]
        }
      ],
      "source": [
        "order = [' ','.','<','o','0','a','@']\n",
        "import cv2\n",
        "\n",
        "# Read the image\n",
        "image = cv2.imread(\"scratch.jpg\")\n",
        "size = 100\n",
        "image = cv2.resize(image,(int(image.shape[0]/(image.shape[0]/size)),int(image.shape[1]/(image.shape[0]/size))))\n",
        "#print(image)\n",
        "pixel_values = image.copy()\n",
        "#print(pixel_values.shape)\n",
        "for i in range(0,pixel_values.shape[0]):\n",
        "  for j in range(0,pixel_values.shape[1]):\n",
        "    print(order[round(sum(pixel_values[i,j])/109)-1],end='')\n",
        "  print()\n"
      ]
    },
    {
      "cell_type": "code",
      "source": [],
      "metadata": {
        "id": "LrWYfWhS0CQP"
      },
      "execution_count": null,
      "outputs": []
    },
    {
      "cell_type": "code",
      "source": [
        "pixel_values.shape"
      ],
      "metadata": {
        "id": "8OBz_bKCnb0v",
        "outputId": "8b0165fd-b3a1-4e58-f4aa-0882e06ffe71",
        "colab": {
          "base_uri": "https://localhost:8080/"
        }
      },
      "execution_count": 48,
      "outputs": [
        {
          "output_type": "execute_result",
          "data": {
            "text/plain": [
              "(100, 100, 3)"
            ]
          },
          "metadata": {},
          "execution_count": 48
        }
      ]
    }
  ]
}